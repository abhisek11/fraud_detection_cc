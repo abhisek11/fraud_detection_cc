{
  "nbformat": 4,
  "nbformat_minor": 0,
  "metadata": {
    "colab": {
      "name": "fraud_detection_cc.ipynb",
      "provenance": []
    },
    "kernelspec": {
      "name": "python3",
      "display_name": "Python 3"
    },
    "accelerator": "GPU"
  },
  "cells": [
    {
      "cell_type": "code",
      "metadata": {
        "id": "QzGs9kUi48bV",
        "colab_type": "code",
        "colab": {}
      },
      "source": [
        "import numpy as np \n",
        "import sklearn as sk\n",
        "import pandas as pd \n",
        "import matplotlib.pyplot as plt \n",
        "from sklearn.preprocessing import scale \n",
        "import seaborn as sns"
      ],
      "execution_count": 0,
      "outputs": []
    },
    {
      "cell_type": "code",
      "metadata": {
        "id": "Z6Ah7AisVzaM",
        "colab_type": "code",
        "colab": {
          "base_uri": "https://localhost:8080/",
          "height": 224
        },
        "outputId": "75c54c73-470c-45ed-d6b1-1909be7336be"
      },
      "source": [
        "df = pd.read_csv('creditcard.csv',low_memory=False)\n",
        "df = df.sample(frac=1).reset_index(drop=True)\n",
        "df.head()"
      ],
      "execution_count": 28,
      "outputs": [
        {
          "output_type": "execute_result",
          "data": {
            "text/html": [
              "<div>\n",
              "<style scoped>\n",
              "    .dataframe tbody tr th:only-of-type {\n",
              "        vertical-align: middle;\n",
              "    }\n",
              "\n",
              "    .dataframe tbody tr th {\n",
              "        vertical-align: top;\n",
              "    }\n",
              "\n",
              "    .dataframe thead th {\n",
              "        text-align: right;\n",
              "    }\n",
              "</style>\n",
              "<table border=\"1\" class=\"dataframe\">\n",
              "  <thead>\n",
              "    <tr style=\"text-align: right;\">\n",
              "      <th></th>\n",
              "      <th>Time</th>\n",
              "      <th>V1</th>\n",
              "      <th>V2</th>\n",
              "      <th>V3</th>\n",
              "      <th>V4</th>\n",
              "      <th>V5</th>\n",
              "      <th>V6</th>\n",
              "      <th>V7</th>\n",
              "      <th>V8</th>\n",
              "      <th>V9</th>\n",
              "      <th>V10</th>\n",
              "      <th>V11</th>\n",
              "      <th>V12</th>\n",
              "      <th>V13</th>\n",
              "      <th>V14</th>\n",
              "      <th>V15</th>\n",
              "      <th>V16</th>\n",
              "      <th>V17</th>\n",
              "      <th>V18</th>\n",
              "      <th>V19</th>\n",
              "      <th>V20</th>\n",
              "      <th>V21</th>\n",
              "      <th>V22</th>\n",
              "      <th>V23</th>\n",
              "      <th>V24</th>\n",
              "      <th>V25</th>\n",
              "      <th>V26</th>\n",
              "      <th>V27</th>\n",
              "      <th>V28</th>\n",
              "      <th>Amount</th>\n",
              "      <th>Class</th>\n",
              "    </tr>\n",
              "  </thead>\n",
              "  <tbody>\n",
              "    <tr>\n",
              "      <th>0</th>\n",
              "      <td>160738.0</td>\n",
              "      <td>1.934014</td>\n",
              "      <td>-0.053551</td>\n",
              "      <td>-1.882719</td>\n",
              "      <td>0.401100</td>\n",
              "      <td>0.330461</td>\n",
              "      <td>-0.823808</td>\n",
              "      <td>0.171820</td>\n",
              "      <td>-0.222863</td>\n",
              "      <td>0.954528</td>\n",
              "      <td>-0.937906</td>\n",
              "      <td>-0.503225</td>\n",
              "      <td>0.401704</td>\n",
              "      <td>0.267641</td>\n",
              "      <td>-1.674380</td>\n",
              "      <td>-0.098205</td>\n",
              "      <td>0.075506</td>\n",
              "      <td>1.106340</td>\n",
              "      <td>0.114651</td>\n",
              "      <td>0.139303</td>\n",
              "      <td>-0.013814</td>\n",
              "      <td>-0.230873</td>\n",
              "      <td>-0.539803</td>\n",
              "      <td>0.153151</td>\n",
              "      <td>0.546252</td>\n",
              "      <td>-0.036761</td>\n",
              "      <td>-0.124400</td>\n",
              "      <td>-0.017837</td>\n",
              "      <td>-0.001952</td>\n",
              "      <td>64.00</td>\n",
              "      <td>0</td>\n",
              "    </tr>\n",
              "    <tr>\n",
              "      <th>1</th>\n",
              "      <td>172467.0</td>\n",
              "      <td>2.179085</td>\n",
              "      <td>-0.721181</td>\n",
              "      <td>-1.449991</td>\n",
              "      <td>-0.861837</td>\n",
              "      <td>-0.601180</td>\n",
              "      <td>-1.583271</td>\n",
              "      <td>-0.136046</td>\n",
              "      <td>-0.426089</td>\n",
              "      <td>-0.558717</td>\n",
              "      <td>0.877516</td>\n",
              "      <td>-0.663833</td>\n",
              "      <td>-1.021656</td>\n",
              "      <td>-0.777275</td>\n",
              "      <td>0.350233</td>\n",
              "      <td>0.337807</td>\n",
              "      <td>0.893741</td>\n",
              "      <td>0.261442</td>\n",
              "      <td>-1.661314</td>\n",
              "      <td>0.661142</td>\n",
              "      <td>-0.047482</td>\n",
              "      <td>0.056372</td>\n",
              "      <td>0.009976</td>\n",
              "      <td>0.203852</td>\n",
              "      <td>0.021188</td>\n",
              "      <td>-0.108279</td>\n",
              "      <td>-0.316927</td>\n",
              "      <td>-0.059072</td>\n",
              "      <td>-0.059345</td>\n",
              "      <td>39.90</td>\n",
              "      <td>0</td>\n",
              "    </tr>\n",
              "    <tr>\n",
              "      <th>2</th>\n",
              "      <td>147497.0</td>\n",
              "      <td>-0.133983</td>\n",
              "      <td>1.118777</td>\n",
              "      <td>-0.228205</td>\n",
              "      <td>-0.637027</td>\n",
              "      <td>1.064585</td>\n",
              "      <td>-0.673293</td>\n",
              "      <td>1.119774</td>\n",
              "      <td>-0.188557</td>\n",
              "      <td>-0.228793</td>\n",
              "      <td>-0.993512</td>\n",
              "      <td>-0.755227</td>\n",
              "      <td>-0.181898</td>\n",
              "      <td>-0.027845</td>\n",
              "      <td>-0.947554</td>\n",
              "      <td>-0.253156</td>\n",
              "      <td>0.199304</td>\n",
              "      <td>0.413141</td>\n",
              "      <td>-0.242596</td>\n",
              "      <td>-0.160668</td>\n",
              "      <td>-0.127406</td>\n",
              "      <td>-0.203769</td>\n",
              "      <td>-0.582637</td>\n",
              "      <td>0.095951</td>\n",
              "      <td>0.509945</td>\n",
              "      <td>-0.964152</td>\n",
              "      <td>0.026432</td>\n",
              "      <td>0.027270</td>\n",
              "      <td>0.236085</td>\n",
              "      <td>7.13</td>\n",
              "      <td>0</td>\n",
              "    </tr>\n",
              "    <tr>\n",
              "      <th>3</th>\n",
              "      <td>118865.0</td>\n",
              "      <td>2.027543</td>\n",
              "      <td>-0.037742</td>\n",
              "      <td>-3.856233</td>\n",
              "      <td>-0.625752</td>\n",
              "      <td>3.109854</td>\n",
              "      <td>2.645836</td>\n",
              "      <td>0.184056</td>\n",
              "      <td>0.526572</td>\n",
              "      <td>-0.200174</td>\n",
              "      <td>-0.254609</td>\n",
              "      <td>0.474382</td>\n",
              "      <td>-0.070448</td>\n",
              "      <td>-0.319646</td>\n",
              "      <td>-0.241217</td>\n",
              "      <td>0.819375</td>\n",
              "      <td>-0.033197</td>\n",
              "      <td>0.529558</td>\n",
              "      <td>-0.273896</td>\n",
              "      <td>-0.348677</td>\n",
              "      <td>-0.043664</td>\n",
              "      <td>0.032566</td>\n",
              "      <td>0.008728</td>\n",
              "      <td>0.025681</td>\n",
              "      <td>0.662746</td>\n",
              "      <td>0.259741</td>\n",
              "      <td>0.632622</td>\n",
              "      <td>-0.089321</td>\n",
              "      <td>-0.054683</td>\n",
              "      <td>40.85</td>\n",
              "      <td>0</td>\n",
              "    </tr>\n",
              "    <tr>\n",
              "      <th>4</th>\n",
              "      <td>122654.0</td>\n",
              "      <td>1.999852</td>\n",
              "      <td>-1.128660</td>\n",
              "      <td>0.209440</td>\n",
              "      <td>-0.530183</td>\n",
              "      <td>-1.227929</td>\n",
              "      <td>0.694198</td>\n",
              "      <td>-1.506686</td>\n",
              "      <td>0.324265</td>\n",
              "      <td>3.605142</td>\n",
              "      <td>-1.198039</td>\n",
              "      <td>-2.520906</td>\n",
              "      <td>1.043896</td>\n",
              "      <td>0.311991</td>\n",
              "      <td>-1.305258</td>\n",
              "      <td>-0.852452</td>\n",
              "      <td>-0.705335</td>\n",
              "      <td>-0.169727</td>\n",
              "      <td>0.638872</td>\n",
              "      <td>1.209236</td>\n",
              "      <td>-0.224268</td>\n",
              "      <td>0.066095</td>\n",
              "      <td>0.921168</td>\n",
              "      <td>-0.053583</td>\n",
              "      <td>-0.948984</td>\n",
              "      <td>0.153628</td>\n",
              "      <td>-0.752294</td>\n",
              "      <td>0.167795</td>\n",
              "      <td>-0.030466</td>\n",
              "      <td>0.02</td>\n",
              "      <td>0</td>\n",
              "    </tr>\n",
              "  </tbody>\n",
              "</table>\n",
              "</div>"
            ],
            "text/plain": [
              "       Time        V1        V2        V3  ...       V27       V28  Amount  Class\n",
              "0  160738.0  1.934014 -0.053551 -1.882719  ... -0.017837 -0.001952   64.00      0\n",
              "1  172467.0  2.179085 -0.721181 -1.449991  ... -0.059072 -0.059345   39.90      0\n",
              "2  147497.0 -0.133983  1.118777 -0.228205  ...  0.027270  0.236085    7.13      0\n",
              "3  118865.0  2.027543 -0.037742 -3.856233  ... -0.089321 -0.054683   40.85      0\n",
              "4  122654.0  1.999852 -1.128660  0.209440  ...  0.167795 -0.030466    0.02      0\n",
              "\n",
              "[5 rows x 31 columns]"
            ]
          },
          "metadata": {
            "tags": []
          },
          "execution_count": 28
        }
      ]
    },
    {
      "cell_type": "code",
      "metadata": {
        "id": "vVxIC8995KQX",
        "colab_type": "code",
        "colab": {
          "base_uri": "https://localhost:8080/",
          "height": 515
        },
        "outputId": "c96c18ce-5ff5-4e53-8ba8-63db9a2ba0b8"
      },
      "source": [
        "corr = df.corr()\n",
        "\n",
        "plt.subplots(figsize=(12,8))\n",
        "sns.heatmap(corr,\n",
        "           xticklabels=corr.columns,\n",
        "           yticklabels=corr.columns)\n",
        "plt.show()\n"
      ],
      "execution_count": 29,
      "outputs": [
        {
          "output_type": "display_data",
          "data": {
            "image/png": "[encoded data removed]",
            "text/plain": [
              "<Figure size 864x576 with 2 Axes>"
            ]
          },
          "metadata": {
            "tags": []
          }
        }
      ]
    },
    {
      "cell_type": "code",
      "metadata": {
        "id": "q3LI1Pwt6hxO",
        "colab_type": "code",
        "colab": {
          "base_uri": "https://localhost:8080/",
          "height": 312
        },
        "outputId": "1742f700-1a77-440a-e7d8-79b0f95f945c"
      },
      "source": [
        "plt.subplots(figsize=(20,25))\n",
        "plt.subplot(4,3,1)\n",
        "plt.subplots_adjust(wspace=0.2,hspace=0.5)\n",
        "sns.countplot(x='Class',data=df)\n",
        "plt.subplot(4,3,2)\n",
        "plt.subplots_adjust(wspace=0.2,hspace=0.5)\n",
        "sns.barplot(x='Class',y='Amount',data=df)\n",
        "plt.show()"
      ],
      "execution_count": 30,
      "outputs": [
        {
          "output_type": "display_data",
          "data": {
            "image/png": "[encoded data removed]",
            "text/plain": [
              "<Figure size 1440x1800 with 2 Axes>"
            ]
          },
          "metadata": {
            "tags": []
          }
        }
      ]
    },
    {
      "cell_type": "code",
      "metadata": {
        "id": "u7-K-EepX0jU",
        "colab_type": "code",
        "colab": {
          "base_uri": "https://localhost:8080/",
          "height": 51
        },
        "outputId": "c655703f-de97-4d85-edc2-60c28f83a479"
      },
      "source": [
        "fraud = df.loc[df['Class']==1]\n",
        "non_fraud = df.loc[df['Class']==0]\n",
        "print(len(fraud))\n",
        "print(len(non_fraud))"
      ],
      "execution_count": 31,
      "outputs": [
        {
          "output_type": "stream",
          "text": [
            "492\n",
            "284315\n"
          ],
          "name": "stdout"
        }
      ]
    },
    {
      "cell_type": "code",
      "metadata": {
        "id": "xez3tob0Zrg4",
        "colab_type": "code",
        "colab": {
          "base_uri": "https://localhost:8080/",
          "height": 283
        },
        "outputId": "6249d5ac-d530-4c61-9b86-314cc612d4d6"
      },
      "source": [
        "ax = fraud.plot.scatter(x=\"Amount\",y=\"Class\",color='Orange', label='Fraud')\n",
        "non_fraud.plot.scatter(x=\"Amount\",y=\"Class\",color='Blue' , label='Non Fraud',ax=ax)\n",
        "plt.show()"
      ],
      "execution_count": 32,
      "outputs": [
        {
          "output_type": "display_data",
          "data": {
            "image/png": "[encoded data removed]",
            "text/plain": [
              "<Figure size 432x288 with 1 Axes>"
            ]
          },
          "metadata": {
            "tags": []
          }
        }
      ]
    },
    {
      "cell_type": "code",
      "metadata": {
        "id": "09-h0PmTh3To",
        "colab_type": "code",
        "colab": {}
      },
      "source": [
        "#machine learning part \n",
        "from sklearn import linear_model\n",
        "from sklearn.model_selection import train_test_split"
      ],
      "execution_count": 0,
      "outputs": []
    },
    {
      "cell_type": "code",
      "metadata": {
        "id": "1tzu1H1DkFKL",
        "colab_type": "code",
        "colab": {}
      },
      "source": [
        "x=df.iloc[:,:-1]\n",
        "y=df['Class']\n",
        "X_train,X_test,Y_train,Y_test = train_test_split(x,y, test_size=0.25,random_state=0,stratify=df['Class'])"
      ],
      "execution_count": 0,
      "outputs": []
    },
    {
      "cell_type": "code",
      "metadata": {
        "id": "hO6PwpKrlXG5",
        "colab_type": "code",
        "colab": {}
      },
      "source": [
        "Logistic = linear_model.LogisticRegression(C=1e5)"
      ],
      "execution_count": 0,
      "outputs": []
    },
    {
      "cell_type": "code",
      "metadata": {
        "id": "A13zYi7uo9wO",
        "colab_type": "code",
        "colab": {
          "base_uri": "https://localhost:8080/",
          "height": 1000
        },
        "outputId": "4d5866e8-8473-40de-d8a7-c6c37a7e1ba3"
      },
      "source": [
        "Logistic.fit(X_train,Y_train)\n",
        "\n",
        "print(X_test,Y_test)\n",
        "print('score: ', Logistic.score(X_test,Y_test))"
      ],
      "execution_count": 39,
      "outputs": [
        {
          "output_type": "stream",
          "text": [
            "/usr/local/lib/python3.6/dist-packages/sklearn/linear_model/logistic.py:432: FutureWarning: Default solver will be changed to 'lbfgs' in 0.22. Specify a solver to silence this warning.\n",
            "  FutureWarning)\n"
          ],
          "name": "stderr"
        },
        {
          "output_type": "stream",
          "text": [
            "            Time         V1        V2  ...       V27       V28  Amount\n",
            "135797   70773.0  -0.308703  0.960608  ...  0.044470  0.010637   22.81\n",
            "78757   118109.0  -0.624994  0.607372  ...  0.123388  0.193893   66.84\n",
            "253835   41379.0  -1.503123  1.837721  ...  0.711073  0.378926    1.00\n",
            "90710   119997.0  -3.895322 -1.234150  ...  0.089030 -0.800991  373.97\n",
            "201408  141555.0   1.412342 -1.819442  ... -0.135856  0.006613  416.50\n",
            "272431  117261.0  -0.230792 -0.804460  ...  0.133057  0.159496  111.00\n",
            "87624   157463.0  -0.978844 -1.446931  ...  0.004380  0.094863  299.00\n",
            "75716    76964.0   1.204137 -0.169078  ... -0.051296 -0.003691   20.83\n",
            "260285  130735.0   0.019958  0.775676  ...  0.238903  0.096772   11.48\n",
            "107045  123412.0  -4.320371 -0.049715  ... -0.123848 -0.572051  113.61\n",
            "162962   41826.0  -2.694478 -0.695869  ... -0.617459  0.428638  181.55\n",
            "142942  133290.0   1.626230 -2.352087  ... -0.156290 -0.022063  444.00\n",
            "150509   77416.0   1.256397 -0.580837  ...  0.014403  0.015470   36.85\n",
            "112455  145956.0   2.091281 -0.678531  ...  0.023816 -0.011397   24.99\n",
            "15098   130958.0  -0.744407  1.402668  ...  0.228761  0.103749   27.31\n",
            "70297    77888.0  -2.588789  2.306231  ... -0.581277 -0.268555   11.98\n",
            "24910   131716.0  -1.826641  2.370031  ...  0.492503 -0.065878    0.79\n",
            "8339     77033.0  -2.111187  2.334165  ... -1.250110 -0.475484    7.38\n",
            "33894   119374.0  -0.506945  1.515877  ...  0.092138  0.177304    5.92\n",
            "149272   74236.0  -0.984085 -0.264904  ...  0.206781  0.055731   12.00\n",
            "241302   52898.0  -0.587898 -2.668811  ... -0.173072  0.163450  919.67\n",
            "198877  161187.0  -2.013799  1.858269  ... -0.584682 -0.171266  225.96\n",
            "199670   76594.0   0.943155 -0.422715  ...  0.042765  0.039742  142.00\n",
            "138171   59139.0  -0.906358  1.040641  ...  0.262534  0.149400   91.53\n",
            "219490  151482.0   0.002392  1.218664  ...  0.205386  0.301208    2.00\n",
            "62557    91991.0  -1.308871 -0.791066  ...  0.030468  0.787016   81.00\n",
            "35851   152290.0  -0.511382  1.330574  ... -0.008324  0.138339    8.99\n",
            "27619   149280.0  -1.285937 -0.221974  ...  0.045469  0.041873   12.60\n",
            "193560  162338.0   2.043436 -0.130686  ... -0.077103 -0.059776   10.97\n",
            "146478   62568.0   1.067149  0.110546  ...  0.017136  0.028191   36.08\n",
            "...          ...        ...       ...  ...       ...       ...     ...\n",
            "151096  146847.0  -0.045945 -0.525479  ...  0.210620  0.229633   88.25\n",
            "116204  106579.0  -1.467852 -0.874182  ...  0.143242  0.129735    9.83\n",
            "199816   73196.0   1.179633 -0.825075  ... -0.031477  0.032366  139.00\n",
            "76791   163944.0   2.023117  0.250920  ... -0.124759 -0.063460   30.71\n",
            "275327   28450.0   1.446033 -1.338003  ...  0.049444  0.004154    6.00\n",
            "165669  169171.0   0.054997  0.884175  ...  0.248391  0.096624    5.38\n",
            "20291    56763.0  -0.461635  0.817738  ...  0.358333  0.187277    0.99\n",
            "124321  160806.0   2.013901  0.229960  ... -0.016007 -0.060251    1.00\n",
            "70249   164533.0   1.904197 -0.213524  ... -0.017600 -0.071421   14.67\n",
            "110150  152902.0   1.915315 -1.410253  ...  0.022923 -0.016057  118.01\n",
            "208637   76585.0  -7.448607 -9.683307  ...  0.357942 -1.300025  103.99\n",
            "277106   69968.0  -3.526492 -2.658473  ...  0.281059 -0.432036   41.90\n",
            "232532  149627.0   0.015738  0.487241  ... -0.110845 -0.013013   96.53\n",
            "269990  141954.0  -8.329206  7.572065  ...  2.890252  1.784166    0.77\n",
            "130655  155116.0  -1.483136  2.121840  ... -0.543579 -0.061326    1.00\n",
            "54804   118428.0   2.066298  0.057209  ... -0.071929 -0.032433    1.98\n",
            "232651   41505.0 -16.526507  8.584972  ... -2.018575 -1.042804  364.19\n",
            "60943    61688.0  -3.196563 -1.588950  ... -0.130513  0.331999   38.00\n",
            "261031   76802.0   1.278088  0.464680  ... -0.011320  0.009655    1.00\n",
            "225586   52696.0  -1.114311  0.697418  ...  0.197312  0.094309   80.26\n",
            "145588  150454.0   1.898960 -1.424832  ... -0.010836 -0.014209  150.00\n",
            "234387   87416.0  -0.247198  0.741518  ... -0.570621 -0.224890   31.13\n",
            "13858   145609.0  -0.121890  0.530035  ...  0.139561  0.177919    2.36\n",
            "180200   50866.0  -0.118196 -4.374317  ... -0.055653  0.165303  835.00\n",
            "16230    75516.0   1.152690  0.189065  ...  0.012370  0.010008   44.00\n",
            "60118    78830.0  -0.521301  0.803982  ...  0.151876 -0.044890   12.07\n",
            "125621   30027.0  -1.693761  2.188942  ...  0.561876  0.230390  103.19\n",
            "122480  155108.0  -0.594832  0.792988  ...  0.081385 -0.059429   10.00\n",
            "168291   19868.0  -0.772048  0.328414  ... -0.072073 -0.163430   11.85\n",
            "265135   53863.0   0.830574 -1.847941  ... -0.036199  0.065629  325.00\n",
            "\n",
            "[71202 rows x 30 columns] 135797    0\n",
            "78757     0\n",
            "253835    0\n",
            "90710     0\n",
            "201408    0\n",
            "272431    0\n",
            "87624     0\n",
            "75716     0\n",
            "260285    0\n",
            "107045    0\n",
            "162962    0\n",
            "142942    0\n",
            "150509    0\n",
            "112455    0\n",
            "15098     0\n",
            "70297     0\n",
            "24910     0\n",
            "8339      0\n",
            "33894     0\n",
            "149272    0\n",
            "241302    0\n",
            "198877    0\n",
            "199670    0\n",
            "138171    0\n",
            "219490    0\n",
            "62557     0\n",
            "35851     0\n",
            "27619     0\n",
            "193560    0\n",
            "146478    0\n",
            "         ..\n",
            "151096    0\n",
            "116204    0\n",
            "199816    0\n",
            "76791     0\n",
            "275327    0\n",
            "165669    0\n",
            "20291     0\n",
            "124321    0\n",
            "70249     0\n",
            "110150    0\n",
            "208637    0\n",
            "277106    0\n",
            "232532    0\n",
            "269990    0\n",
            "130655    0\n",
            "54804     0\n",
            "232651    1\n",
            "60943     0\n",
            "261031    0\n",
            "225586    0\n",
            "145588    0\n",
            "234387    0\n",
            "13858     0\n",
            "180200    0\n",
            "16230     0\n",
            "60118     0\n",
            "125621    0\n",
            "122480    0\n",
            "168291    0\n",
            "265135    0\n",
            "Name: Class, Length: 71202, dtype: int64\n",
            "score:  0.998806213308615\n"
          ],
          "name": "stdout"
        }
      ]
    },
    {
      "cell_type": "code",
      "metadata": {
        "id": "WiCURwBXncSJ",
        "colab_type": "code",
        "colab": {}
      },
      "source": [
        ""
      ],
      "execution_count": 0,
      "outputs": []
    }
  ]
}